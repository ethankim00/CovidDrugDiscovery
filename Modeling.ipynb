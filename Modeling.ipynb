{
 "cells": [
  {
   "cell_type": "markdown",
   "metadata": {
    "toc": true
   },
   "source": [
    "<h1>Table of Contents<span class=\"tocSkip\"></span></h1>\n",
    "<div class=\"toc\"><ul class=\"toc-item\"><li><span><a href=\"#Load-Data\" data-toc-modified-id=\"Load-Data-1\">Load Data</a></span></li><li><span><a href=\"#Train-Test-Split\" data-toc-modified-id=\"Train-Test-Split-2\">Train Test Split</a></span></li><li><span><a href=\"#Baseline-Model\" data-toc-modified-id=\"Baseline-Model-3\">Baseline Model</a></span></li><li><span><a href=\"#Train-Models\" data-toc-modified-id=\"Train-Models-4\">Train Models</a></span></li><li><span><a href=\"#Model-Comparison\" data-toc-modified-id=\"Model-Comparison-5\">Model Comparison</a></span></li><li><span><a href=\"#Results\" data-toc-modified-id=\"Results-6\">Results</a></span></li></ul></div>"
   ]
  },
  {
   "cell_type": "code",
   "execution_count": 48,
   "metadata": {},
   "outputs": [],
   "source": [
    "import numpy as np \n",
    "import pandas as pd\n",
    "import matplotlib.pyplot as plt\n",
    "import seaborn as sns\n",
    "\n",
    "from sklearn.model_selection import train_test_split\n",
    "from sklearn.linear_model import LinearRegression\n",
    "from sklearn.metrics import mean_squared_error\n",
    "from rdkit import Chem\n",
    "from rdkit.Chem import Descriptors, Lipinski\n",
    "plt.style.use('ggplot')"
   ]
  },
  {
   "cell_type": "markdown",
   "metadata": {},
   "source": [
    "# Load Data"
   ]
  },
  {
   "cell_type": "code",
   "execution_count": 14,
   "metadata": {},
   "outputs": [
    {
     "data": {
      "text/html": [
       "<div>\n",
       "<style scoped>\n",
       "    .dataframe tbody tr th:only-of-type {\n",
       "        vertical-align: middle;\n",
       "    }\n",
       "\n",
       "    .dataframe tbody tr th {\n",
       "        vertical-align: top;\n",
       "    }\n",
       "\n",
       "    .dataframe thead th {\n",
       "        text-align: right;\n",
       "    }\n",
       "</style>\n",
       "<table border=\"1\" class=\"dataframe\">\n",
       "  <thead>\n",
       "    <tr style=\"text-align: right;\">\n",
       "      <th></th>\n",
       "      <th>Unnamed: 0</th>\n",
       "      <th>index</th>\n",
       "      <th>Molecule ChEMBL ID</th>\n",
       "      <th>Molecule Name</th>\n",
       "      <th>Molecule Max Phase</th>\n",
       "      <th>Molecular Weight</th>\n",
       "      <th>#RO5 Violations</th>\n",
       "      <th>AlogP</th>\n",
       "      <th>Compound Key</th>\n",
       "      <th>Smiles</th>\n",
       "      <th>...</th>\n",
       "      <th>MW</th>\n",
       "      <th>LogP</th>\n",
       "      <th>NumHDonors</th>\n",
       "      <th>NumHAcceptors</th>\n",
       "      <th>rotatable_bonds</th>\n",
       "      <th>number_of_atoms</th>\n",
       "      <th>molar_refractivity</th>\n",
       "      <th>SA_mapping</th>\n",
       "      <th>heavy_atoms</th>\n",
       "      <th>num_of_rings</th>\n",
       "    </tr>\n",
       "  </thead>\n",
       "  <tbody>\n",
       "    <tr>\n",
       "      <th>0</th>\n",
       "      <td>0</td>\n",
       "      <td>0</td>\n",
       "      <td>CHEMBL231779</td>\n",
       "      <td>APIXABAN</td>\n",
       "      <td>4</td>\n",
       "      <td>459.51</td>\n",
       "      <td>0</td>\n",
       "      <td>2.70</td>\n",
       "      <td>Apixaban</td>\n",
       "      <td>COc1ccc(-n2nc(C(N)=O)c3c2C(=O)N(c2ccc(N4CCCCC4...</td>\n",
       "      <td>...</td>\n",
       "      <td>459.506</td>\n",
       "      <td>2.69960</td>\n",
       "      <td>1</td>\n",
       "      <td>6</td>\n",
       "      <td>5</td>\n",
       "      <td>34</td>\n",
       "      <td>126.6604</td>\n",
       "      <td>110.76</td>\n",
       "      <td>34</td>\n",
       "      <td>5</td>\n",
       "    </tr>\n",
       "    <tr>\n",
       "      <th>1</th>\n",
       "      <td>1</td>\n",
       "      <td>1</td>\n",
       "      <td>CHEMBL186</td>\n",
       "      <td>CEFEPIME</td>\n",
       "      <td>4</td>\n",
       "      <td>480.57</td>\n",
       "      <td>0</td>\n",
       "      <td>-1.28</td>\n",
       "      <td>cefepime</td>\n",
       "      <td>CO/N=C(\\C(=O)N[C@@H]1C(=O)N2C(C(=O)[O-])=C(C[N...</td>\n",
       "      <td>...</td>\n",
       "      <td>480.572</td>\n",
       "      <td>-1.27990</td>\n",
       "      <td>2</td>\n",
       "      <td>10</td>\n",
       "      <td>7</td>\n",
       "      <td>32</td>\n",
       "      <td>117.1475</td>\n",
       "      <td>150.04</td>\n",
       "      <td>32</td>\n",
       "      <td>4</td>\n",
       "    </tr>\n",
       "    <tr>\n",
       "      <th>2</th>\n",
       "      <td>2</td>\n",
       "      <td>2</td>\n",
       "      <td>CHEMBL240597</td>\n",
       "      <td>CHENODIOL</td>\n",
       "      <td>4</td>\n",
       "      <td>392.58</td>\n",
       "      <td>0</td>\n",
       "      <td>4.48</td>\n",
       "      <td>chenodeoxycholic-acid</td>\n",
       "      <td>C[C@H](CCC(=O)O)[C@H]1CC[C@H]2[C@H]3[C@H](CC[C...</td>\n",
       "      <td>...</td>\n",
       "      <td>392.580</td>\n",
       "      <td>4.47790</td>\n",
       "      <td>3</td>\n",
       "      <td>3</td>\n",
       "      <td>4</td>\n",
       "      <td>28</td>\n",
       "      <td>108.6474</td>\n",
       "      <td>77.76</td>\n",
       "      <td>28</td>\n",
       "      <td>4</td>\n",
       "    </tr>\n",
       "    <tr>\n",
       "      <th>3</th>\n",
       "      <td>3</td>\n",
       "      <td>3</td>\n",
       "      <td>CHEMBL1098</td>\n",
       "      <td>BUPIVACAINE</td>\n",
       "      <td>4</td>\n",
       "      <td>288.44</td>\n",
       "      <td>0</td>\n",
       "      <td>3.90</td>\n",
       "      <td>bupivacaine</td>\n",
       "      <td>CCCCN1CCCCC1C(=O)Nc1c(C)cccc1C</td>\n",
       "      <td>...</td>\n",
       "      <td>288.435</td>\n",
       "      <td>3.89654</td>\n",
       "      <td>1</td>\n",
       "      <td>2</td>\n",
       "      <td>5</td>\n",
       "      <td>21</td>\n",
       "      <td>88.6657</td>\n",
       "      <td>32.34</td>\n",
       "      <td>21</td>\n",
       "      <td>2</td>\n",
       "    </tr>\n",
       "    <tr>\n",
       "      <th>4</th>\n",
       "      <td>4</td>\n",
       "      <td>4</td>\n",
       "      <td>CHEMBL345714</td>\n",
       "      <td>ACIPIMOX</td>\n",
       "      <td>4</td>\n",
       "      <td>154.12</td>\n",
       "      <td>0</td>\n",
       "      <td>-0.28</td>\n",
       "      <td>Acipimox</td>\n",
       "      <td>Cc1cnc(C(=O)O)c[n+]1[O-]</td>\n",
       "      <td>...</td>\n",
       "      <td>154.125</td>\n",
       "      <td>-0.27838</td>\n",
       "      <td>1</td>\n",
       "      <td>3</td>\n",
       "      <td>1</td>\n",
       "      <td>11</td>\n",
       "      <td>34.8933</td>\n",
       "      <td>77.13</td>\n",
       "      <td>11</td>\n",
       "      <td>1</td>\n",
       "    </tr>\n",
       "    <tr>\n",
       "      <th>5</th>\n",
       "      <td>5</td>\n",
       "      <td>5</td>\n",
       "      <td>CHEMBL498</td>\n",
       "      <td>CHLORPROPAMIDE</td>\n",
       "      <td>4</td>\n",
       "      <td>276.75</td>\n",
       "      <td>0</td>\n",
       "      <td>1.74</td>\n",
       "      <td>Chlorpropamide</td>\n",
       "      <td>CCCNC(=O)NS(=O)(=O)c1ccc(Cl)cc1</td>\n",
       "      <td>...</td>\n",
       "      <td>276.745</td>\n",
       "      <td>1.73790</td>\n",
       "      <td>2</td>\n",
       "      <td>3</td>\n",
       "      <td>4</td>\n",
       "      <td>17</td>\n",
       "      <td>65.4632</td>\n",
       "      <td>75.27</td>\n",
       "      <td>17</td>\n",
       "      <td>1</td>\n",
       "    </tr>\n",
       "    <tr>\n",
       "      <th>6</th>\n",
       "      <td>6</td>\n",
       "      <td>6</td>\n",
       "      <td>CHEMBL475534</td>\n",
       "      <td>NITRENDIPINE</td>\n",
       "      <td>4</td>\n",
       "      <td>360.37</td>\n",
       "      <td>0</td>\n",
       "      <td>2.57</td>\n",
       "      <td>nitrendipine</td>\n",
       "      <td>CCOC(=O)C1=C(C)NC(C)=C(C(=O)OC)C1c1cccc([N+](=...</td>\n",
       "      <td>...</td>\n",
       "      <td>360.366</td>\n",
       "      <td>2.56570</td>\n",
       "      <td>1</td>\n",
       "      <td>7</td>\n",
       "      <td>5</td>\n",
       "      <td>26</td>\n",
       "      <td>93.0221</td>\n",
       "      <td>107.77</td>\n",
       "      <td>26</td>\n",
       "      <td>2</td>\n",
       "    </tr>\n",
       "    <tr>\n",
       "      <th>7</th>\n",
       "      <td>7</td>\n",
       "      <td>7</td>\n",
       "      <td>CHEMBL1625</td>\n",
       "      <td>OXYBENZONE</td>\n",
       "      <td>4</td>\n",
       "      <td>228.25</td>\n",
       "      <td>0</td>\n",
       "      <td>2.63</td>\n",
       "      <td>Oxybenzone</td>\n",
       "      <td>COc1ccc(C(=O)c2ccccc2)c(O)c1</td>\n",
       "      <td>...</td>\n",
       "      <td>228.247</td>\n",
       "      <td>2.63180</td>\n",
       "      <td>1</td>\n",
       "      <td>3</td>\n",
       "      <td>3</td>\n",
       "      <td>17</td>\n",
       "      <td>64.5333</td>\n",
       "      <td>46.53</td>\n",
       "      <td>17</td>\n",
       "      <td>2</td>\n",
       "    </tr>\n",
       "    <tr>\n",
       "      <th>8</th>\n",
       "      <td>8</td>\n",
       "      <td>8</td>\n",
       "      <td>CHEMBL2359059</td>\n",
       "      <td>NaN</td>\n",
       "      <td>0</td>\n",
       "      <td>403.95</td>\n",
       "      <td>0</td>\n",
       "      <td>3.99</td>\n",
       "      <td>Propiverine hydrochloride</td>\n",
       "      <td>CCCOC(C(=O)OC1CCN(C)CC1)(c1ccccc1)c1ccccc1.Cl</td>\n",
       "      <td>...</td>\n",
       "      <td>403.950</td>\n",
       "      <td>4.41600</td>\n",
       "      <td>0</td>\n",
       "      <td>4</td>\n",
       "      <td>7</td>\n",
       "      <td>28</td>\n",
       "      <td>113.7660</td>\n",
       "      <td>38.77</td>\n",
       "      <td>28</td>\n",
       "      <td>3</td>\n",
       "    </tr>\n",
       "    <tr>\n",
       "      <th>9</th>\n",
       "      <td>9</td>\n",
       "      <td>9</td>\n",
       "      <td>CHEMBL421</td>\n",
       "      <td>SULFASALAZINE</td>\n",
       "      <td>4</td>\n",
       "      <td>398.40</td>\n",
       "      <td>0</td>\n",
       "      <td>3.70</td>\n",
       "      <td>Sulfasalazine</td>\n",
       "      <td>O=C(O)c1cc(/N=N/c2ccc(S(=O)(=O)Nc3ccccn3)cc2)c...</td>\n",
       "      <td>...</td>\n",
       "      <td>398.400</td>\n",
       "      <td>3.70160</td>\n",
       "      <td>3</td>\n",
       "      <td>7</td>\n",
       "      <td>6</td>\n",
       "      <td>28</td>\n",
       "      <td>100.7296</td>\n",
       "      <td>141.31</td>\n",
       "      <td>28</td>\n",
       "      <td>3</td>\n",
       "    </tr>\n",
       "  </tbody>\n",
       "</table>\n",
       "<p>10 rows × 24 columns</p>\n",
       "</div>"
      ],
      "text/plain": [
       "   Unnamed: 0  index Molecule ChEMBL ID   Molecule Name  Molecule Max Phase  \\\n",
       "0           0      0       CHEMBL231779        APIXABAN                   4   \n",
       "1           1      1          CHEMBL186        CEFEPIME                   4   \n",
       "2           2      2       CHEMBL240597       CHENODIOL                   4   \n",
       "3           3      3         CHEMBL1098     BUPIVACAINE                   4   \n",
       "4           4      4       CHEMBL345714        ACIPIMOX                   4   \n",
       "5           5      5          CHEMBL498  CHLORPROPAMIDE                   4   \n",
       "6           6      6       CHEMBL475534    NITRENDIPINE                   4   \n",
       "7           7      7         CHEMBL1625      OXYBENZONE                   4   \n",
       "8           8      8      CHEMBL2359059             NaN                   0   \n",
       "9           9      9          CHEMBL421   SULFASALAZINE                   4   \n",
       "\n",
       "   Molecular Weight  #RO5 Violations  AlogP               Compound Key  \\\n",
       "0            459.51                0   2.70                   Apixaban   \n",
       "1            480.57                0  -1.28                   cefepime   \n",
       "2            392.58                0   4.48      chenodeoxycholic-acid   \n",
       "3            288.44                0   3.90                bupivacaine   \n",
       "4            154.12                0  -0.28                   Acipimox   \n",
       "5            276.75                0   1.74             Chlorpropamide   \n",
       "6            360.37                0   2.57               nitrendipine   \n",
       "7            228.25                0   2.63                 Oxybenzone   \n",
       "8            403.95                0   3.99  Propiverine hydrochloride   \n",
       "9            398.40                0   3.70              Sulfasalazine   \n",
       "\n",
       "                                              Smiles  ...       MW     LogP  \\\n",
       "0  COc1ccc(-n2nc(C(N)=O)c3c2C(=O)N(c2ccc(N4CCCCC4...  ...  459.506  2.69960   \n",
       "1  CO/N=C(\\C(=O)N[C@@H]1C(=O)N2C(C(=O)[O-])=C(C[N...  ...  480.572 -1.27990   \n",
       "2  C[C@H](CCC(=O)O)[C@H]1CC[C@H]2[C@H]3[C@H](CC[C...  ...  392.580  4.47790   \n",
       "3                     CCCCN1CCCCC1C(=O)Nc1c(C)cccc1C  ...  288.435  3.89654   \n",
       "4                           Cc1cnc(C(=O)O)c[n+]1[O-]  ...  154.125 -0.27838   \n",
       "5                    CCCNC(=O)NS(=O)(=O)c1ccc(Cl)cc1  ...  276.745  1.73790   \n",
       "6  CCOC(=O)C1=C(C)NC(C)=C(C(=O)OC)C1c1cccc([N+](=...  ...  360.366  2.56570   \n",
       "7                       COc1ccc(C(=O)c2ccccc2)c(O)c1  ...  228.247  2.63180   \n",
       "8      CCCOC(C(=O)OC1CCN(C)CC1)(c1ccccc1)c1ccccc1.Cl  ...  403.950  4.41600   \n",
       "9  O=C(O)c1cc(/N=N/c2ccc(S(=O)(=O)Nc3ccccn3)cc2)c...  ...  398.400  3.70160   \n",
       "\n",
       "   NumHDonors  NumHAcceptors  rotatable_bonds  number_of_atoms  \\\n",
       "0           1              6                5               34   \n",
       "1           2             10                7               32   \n",
       "2           3              3                4               28   \n",
       "3           1              2                5               21   \n",
       "4           1              3                1               11   \n",
       "5           2              3                4               17   \n",
       "6           1              7                5               26   \n",
       "7           1              3                3               17   \n",
       "8           0              4                7               28   \n",
       "9           3              7                6               28   \n",
       "\n",
       "   molar_refractivity  SA_mapping  heavy_atoms  num_of_rings  \n",
       "0            126.6604      110.76           34             5  \n",
       "1            117.1475      150.04           32             4  \n",
       "2            108.6474       77.76           28             4  \n",
       "3             88.6657       32.34           21             2  \n",
       "4             34.8933       77.13           11             1  \n",
       "5             65.4632       75.27           17             1  \n",
       "6             93.0221      107.77           26             2  \n",
       "7             64.5333       46.53           17             2  \n",
       "8            113.7660       38.77           28             3  \n",
       "9            100.7296      141.31           28             3  \n",
       "\n",
       "[10 rows x 24 columns]"
      ]
     },
     "execution_count": 14,
     "metadata": {},
     "output_type": "execute_result"
    }
   ],
   "source": [
    "data = pd.read_csv('Data/processed_data')\n",
    "data.head(10)"
   ]
  },
  {
   "cell_type": "code",
   "execution_count": 15,
   "metadata": {},
   "outputs": [
    {
     "data": {
      "text/plain": [
       "Index(['Unnamed: 0', 'index', 'Molecule ChEMBL ID', 'Molecule Name',\n",
       "       'Molecule Max Phase', 'Molecular Weight', '#RO5 Violations', 'AlogP',\n",
       "       'Compound Key', 'Smiles', 'Standard Type', 'Standard Relation',\n",
       "       'Standard Value', 'Standard Units', 'MW', 'LogP', 'NumHDonors',\n",
       "       'NumHAcceptors', 'rotatable_bonds', 'number_of_atoms',\n",
       "       'molar_refractivity', 'SA_mapping', 'heavy_atoms', 'num_of_rings'],\n",
       "      dtype='object')"
      ]
     },
     "execution_count": 15,
     "metadata": {},
     "output_type": "execute_result"
    }
   ],
   "source": [
    "data.columns"
   ]
  },
  {
   "cell_type": "markdown",
   "metadata": {},
   "source": [
    "# Train Test Split"
   ]
  },
  {
   "cell_type": "code",
   "execution_count": 16,
   "metadata": {},
   "outputs": [],
   "source": [
    "predictors = ['rotatable_bonds', 'number_of_atoms', 'SA_mapping','num_of_rings', 'MW', 'LogP', 'NumHDonors', 'NumHAcceptors']\n",
    "target = 'Standard Value'\n",
    "\n",
    "# Subset drugs above candidate threshold \n",
    "data['above_threshold'] = data[target] > 0.6\n",
    "data['above_threshold'] = data['above_threshold'].astype(int)\n",
    "\n",
    "X_train, X_test, y_train,  y_test = train_test_split(data, data[target], test_size = 0.2, stratify = data['above_threshold'])"
   ]
  },
  {
   "cell_type": "markdown",
   "metadata": {},
   "source": [
    "# Baseline Model"
   ]
  },
  {
   "cell_type": "code",
   "execution_count": 46,
   "metadata": {},
   "outputs": [],
   "source": [
    "# Fit linear regression model on training data\n",
    "baseline_model = LinearRegression().fit(X_train[predictors], y_train)"
   ]
  },
  {
   "cell_type": "code",
   "execution_count": 53,
   "metadata": {},
   "outputs": [
    {
     "data": {
      "text/plain": [
       "0.012600172719526737"
      ]
     },
     "execution_count": 53,
     "metadata": {},
     "output_type": "execute_result"
    }
   ],
   "source": [
    "baseline_model.score(X_train[predictors], y_train)"
   ]
  },
  {
   "cell_type": "code",
   "execution_count": 59,
   "metadata": {},
   "outputs": [],
   "source": [
    "def evaluate_model(model, X_train, X_test, y_train, y_test):\n",
    "    \"\"\"\n",
    "    Calculates performance of model on train and test sets\n",
    "    Parameters\n",
    "    ----------\n",
    "    model: fitted sklern model\n",
    "    X_train, X_test, y_train, y_test : data\n",
    "    Returns\n",
    "    -------\n",
    "    (train_score, test_score) : scores on the training and test sets\n",
    "    \"\"\"\n",
    "    return mean_squared_error(y_train, model.predict(X_train[predictors])), mean_squared_error(y_test, model.predict(X_test[predictors]))\n",
    "    "
   ]
  },
  {
   "cell_type": "code",
   "execution_count": 60,
   "metadata": {},
   "outputs": [
    {
     "data": {
      "text/plain": [
       "(0.01895542893035431, 0.017886115912702425)"
      ]
     },
     "execution_count": 60,
     "metadata": {},
     "output_type": "execute_result"
    }
   ],
   "source": [
    "evaluate_model(baseline_model, X_train, X_test, y_train, y_test)"
   ]
  },
  {
   "cell_type": "markdown",
   "metadata": {},
   "source": [
    "# Train Models"
   ]
  },
  {
   "cell_type": "code",
   "execution_count": 62,
   "metadata": {},
   "outputs": [],
   "source": [
    "from sklearn.ensemble import RandomForestRegressor"
   ]
  },
  {
   "cell_type": "code",
   "execution_count": 80,
   "metadata": {},
   "outputs": [],
   "source": [
    "rf_model = RandomForestRegressor(n_estimators=100, max_depth= 8)"
   ]
  },
  {
   "cell_type": "code",
   "execution_count": 81,
   "metadata": {},
   "outputs": [
    {
     "data": {
      "text/plain": [
       "RandomForestRegressor(max_depth=8)"
      ]
     },
     "execution_count": 81,
     "metadata": {},
     "output_type": "execute_result"
    }
   ],
   "source": [
    "rf_model.fit(X_train[predictors], y_train)"
   ]
  },
  {
   "cell_type": "code",
   "execution_count": 82,
   "metadata": {},
   "outputs": [
    {
     "data": {
      "text/plain": [
       "(0.01107069807153664, 0.01807669117784998)"
      ]
     },
     "execution_count": 82,
     "metadata": {},
     "output_type": "execute_result"
    }
   ],
   "source": [
    "evaluate_model(rf_model, X_train, X_test, y_train, y_test)"
   ]
  },
  {
   "cell_type": "code",
   "execution_count": 87,
   "metadata": {},
   "outputs": [
    {
     "data": {
      "text/plain": [
       "array([0.50752936, 0.50752936])"
      ]
     },
     "execution_count": 87,
     "metadata": {},
     "output_type": "execute_result"
    }
   ],
   "source": [
    "rf_model.predict(data[data['Molecule Name'] == 'REMDESIVIR'][predictors])"
   ]
  },
  {
   "cell_type": "code",
   "execution_count": 88,
   "metadata": {},
   "outputs": [
    {
     "data": {
      "text/plain": [
       "251     0.5934\n",
       "1177    0.9631\n",
       "Name: Standard Value, dtype: float64"
      ]
     },
     "execution_count": 88,
     "metadata": {},
     "output_type": "execute_result"
    }
   ],
   "source": [
    "data[data['Molecule Name'] == 'REMDESIVIR'][target]"
   ]
  },
  {
   "cell_type": "markdown",
   "metadata": {},
   "source": [
    "# Model Comparison"
   ]
  },
  {
   "cell_type": "markdown",
   "metadata": {},
   "source": [
    "# Results"
   ]
  },
  {
   "cell_type": "code",
   "execution_count": null,
   "metadata": {},
   "outputs": [],
   "source": []
  }
 ],
 "metadata": {
  "kernelspec": {
   "display_name": "Python 3",
   "language": "python",
   "name": "python3"
  },
  "language_info": {
   "codemirror_mode": {
    "name": "ipython",
    "version": 3
   },
   "file_extension": ".py",
   "mimetype": "text/x-python",
   "name": "python",
   "nbconvert_exporter": "python",
   "pygments_lexer": "ipython3",
   "version": "3.7.8"
  },
  "toc": {
   "base_numbering": 1,
   "nav_menu": {},
   "number_sections": false,
   "sideBar": true,
   "skip_h1_title": false,
   "title_cell": "Table of Contents",
   "title_sidebar": "Contents",
   "toc_cell": true,
   "toc_position": {},
   "toc_section_display": true,
   "toc_window_display": true
  },
  "varInspector": {
   "cols": {
    "lenName": 16,
    "lenType": 16,
    "lenVar": 40
   },
   "kernels_config": {
    "python": {
     "delete_cmd_postfix": "",
     "delete_cmd_prefix": "del ",
     "library": "var_list.py",
     "varRefreshCmd": "print(var_dic_list())"
    },
    "r": {
     "delete_cmd_postfix": ") ",
     "delete_cmd_prefix": "rm(",
     "library": "var_list.r",
     "varRefreshCmd": "cat(var_dic_list()) "
    }
   },
   "types_to_exclude": [
    "module",
    "function",
    "builtin_function_or_method",
    "instance",
    "_Feature"
   ],
   "window_display": false
  }
 },
 "nbformat": 4,
 "nbformat_minor": 4
}
